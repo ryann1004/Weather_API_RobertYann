{
 "cells": [
  {
   "cell_type": "code",
   "execution_count": 23,
   "id": "d7cb30dd",
   "metadata": {},
   "outputs": [],
   "source": [
    "import requests\n",
    "import pandas as pd\n",
    "from datetime import datetime\n",
    "\n"
   ]
  },
  {
   "cell_type": "code",
   "execution_count": null,
   "id": "239b8c79",
   "metadata": {},
   "outputs": [],
   "source": [
    "api_key = \"\"\n",
    "baseurl = \" http://api.weatherapi.com/v1/\"\n",
    "# f\"http://api.weatherapi.com/v1/current.json?key={api_key}&q={city}\"\n",
    "city=\"Louisville\""
   ]
  },
  {
   "cell_type": "code",
   "execution_count": 25,
   "id": "d5d7e943",
   "metadata": {},
   "outputs": [
    {
     "data": {
      "text/plain": [
       "200"
      ]
     },
     "execution_count": 25,
     "metadata": {},
     "output_type": "execute_result"
    }
   ],
   "source": [
    "response = requests.get(f\"http://api.weatherapi.com/v1/current.json?key={api_key}&q={city}\")\n",
    "response.status_code"
   ]
  },
  {
   "cell_type": "code",
   "execution_count": 26,
   "id": "3425d444",
   "metadata": {},
   "outputs": [
    {
     "data": {
      "text/plain": [
       "{'last_updated_epoch': 1757511000,\n",
       " 'last_updated': '2025-09-10 09:30',\n",
       " 'temp_c': 16.7,\n",
       " 'temp_f': 62.1,\n",
       " 'is_day': 1,\n",
       " 'condition': {'text': 'Cloudy',\n",
       "  'icon': '//cdn.weatherapi.com/weather/64x64/day/119.png',\n",
       "  'code': 1006},\n",
       " 'wind_mph': 2.2,\n",
       " 'wind_kph': 3.6,\n",
       " 'wind_degree': 151,\n",
       " 'wind_dir': 'SSE',\n",
       " 'pressure_mb': 1021.0,\n",
       " 'pressure_in': 30.16,\n",
       " 'precip_mm': 0.0,\n",
       " 'precip_in': 0.0,\n",
       " 'humidity': 78,\n",
       " 'cloud': 0,\n",
       " 'feelslike_c': 16.7,\n",
       " 'feelslike_f': 62.1,\n",
       " 'windchill_c': 20.1,\n",
       " 'windchill_f': 68.2,\n",
       " 'heatindex_c': 21.3,\n",
       " 'heatindex_f': 70.4,\n",
       " 'dewpoint_c': 13.0,\n",
       " 'dewpoint_f': 55.4,\n",
       " 'vis_km': 16.0,\n",
       " 'vis_miles': 9.0,\n",
       " 'uv': 0.6,\n",
       " 'gust_mph': 3.1,\n",
       " 'gust_kph': 5.0,\n",
       " 'short_rad': 144.46,\n",
       " 'diff_rad': 59.81,\n",
       " 'dni': 103.03,\n",
       " 'gti': 88.31}"
      ]
     },
     "execution_count": 26,
     "metadata": {},
     "output_type": "execute_result"
    }
   ],
   "source": [
    "data = response.json()\n",
    "data['current']"
   ]
  },
  {
   "cell_type": "code",
   "execution_count": 27,
   "id": "87d65792",
   "metadata": {},
   "outputs": [
    {
     "data": {
      "text/plain": [
       "200"
      ]
     },
     "execution_count": 27,
     "metadata": {},
     "output_type": "execute_result"
    }
   ],
   "source": [
    "forecast_url = f\"{baseurl}forecast.json?key={api_key}&q={city}&days=3\"\n",
    "forecast_response = requests.get(forecast_url)\n",
    "forecast_response.status_code"
   ]
  },
  {
   "cell_type": "code",
   "execution_count": 28,
   "id": "555cbb2a",
   "metadata": {},
   "outputs": [],
   "source": [
    "forecast_data = forecast_response.json()\n",
    "forecast = forecast_data['forecast']['forecastday']"
   ]
  },
  {
   "cell_type": "code",
   "execution_count": 30,
   "id": "dacf6392",
   "metadata": {},
   "outputs": [],
   "source": [
    "forecast_3_days_summary = []\n",
    "for day in forecast:\n",
    "    forecast_3_days_summary.append(f\"{day['date']}: High {day['day']['maxtemp_f']}F, Low {day['day']['mintemp_f']} - {day['day']['condition']['text']}\")"
   ]
  },
  {
   "cell_type": "code",
   "execution_count": 31,
   "id": "cb879402",
   "metadata": {},
   "outputs": [
    {
     "data": {
      "text/plain": [
       "['2025-09-10: High 81.9F, Low 61.3 - Cloudy ',\n",
       " '2025-09-11: High 77.9F, Low 68.2 - Cloudy ',\n",
       " '2025-09-12: High 88.0F, Low 59.2 - Sunny']"
      ]
     },
     "execution_count": 31,
     "metadata": {},
     "output_type": "execute_result"
    }
   ],
   "source": [
    "forecast_3_days_summary"
   ]
  },
  {
   "cell_type": "code",
   "execution_count": 32,
   "id": "f47b39d5",
   "metadata": {},
   "outputs": [
    {
     "data": {
      "text/plain": [
       "['Wednesday, September #d: High 81.9F / Low 61.3 - Cloudy  ',\n",
       " 'Thursday, September #d: High 77.9F / Low 68.2 - Cloudy  ',\n",
       " 'Friday, September #d: High 88.0F / Low 59.2 - Sunny ']"
      ]
     },
     "execution_count": 32,
     "metadata": {},
     "output_type": "execute_result"
    }
   ],
   "source": [
    "forecast_3_days_summary = []\n",
    "for day in forecast:\n",
    "    date_obj = datetime.strptime(day['date'], '%Y-%m-%d')\n",
    "    formatted_date = date_obj.strftime('%A, %B %#d')\n",
    "    forecast_3_days_summary.append(f\"{formatted_date}: High {day['day']['maxtemp_f']}F / Low {day['day']['mintemp_f']} - {day['day']['condition']['text']} \")\n",
    "    \n",
    "forecast_3_days_summary"
   ]
  },
  {
   "cell_type": "code",
   "execution_count": 37,
   "id": "28b9332a",
   "metadata": {},
   "outputs": [],
   "source": [
    "today = pd.Timestamp.now().strftime(\"&Y-%m-%d\")\n",
    "astronomy_url = f\"(baseurl)astronomy.json?key={api_key}&q={city}&dt={today}\""
   ]
  },
  {
   "cell_type": "code",
   "execution_count": 36,
   "id": "e951ad28",
   "metadata": {},
   "outputs": [
    {
     "ename": "_IncompleteInputError",
     "evalue": "incomplete input (2831721410.py, line 6)",
     "output_type": "error",
     "traceback": [
      "  \u001b[36mCell\u001b[39m\u001b[36m \u001b[39m\u001b[32mIn[36]\u001b[39m\u001b[32m, line 6\u001b[39m\n\u001b[31m    \u001b[39m\u001b[31m#build a summary for the city, save that summary into a dictionary\u001b[39m\n                                                                      ^\n\u001b[31m_IncompleteInputError\u001b[39m\u001b[31m:\u001b[39m incomplete input\n"
     ]
    }
   ],
   "source": [
    "def get_city_data(city, api_key):\n",
    "#get current weather\n",
    "#get a forecast\n",
    "#get astronomical data\n",
    "#get anything else you want (challenge)\n",
    "#build a summary for the city, save that summary into a dictionary"
   ]
  }
 ],
 "metadata": {
  "kernelspec": {
   "display_name": "Python 3",
   "language": "python",
   "name": "python3"
  },
  "language_info": {
   "codemirror_mode": {
    "name": "ipython",
    "version": 3
   },
   "file_extension": ".py",
   "mimetype": "text/x-python",
   "name": "python",
   "nbconvert_exporter": "python",
   "pygments_lexer": "ipython3",
   "version": "3.13.5"
  }
 },
 "nbformat": 4,
 "nbformat_minor": 5
}
