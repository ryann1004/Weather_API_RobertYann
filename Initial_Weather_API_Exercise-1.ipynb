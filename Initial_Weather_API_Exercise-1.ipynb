{
 "cells": [
  {
   "cell_type": "code",
   "execution_count": 80,
   "id": "b5984a28",
   "metadata": {},
   "outputs": [],
   "source": [
    "baseurl = \"http://api.weatherapi.com/v1\"\n",
    "rob_key = \"363fe84ae27d48edaf9154647250909\""
   ]
  },
  {
   "cell_type": "code",
   "execution_count": 81,
   "id": "e30db99d",
   "metadata": {},
   "outputs": [],
   "source": [
    "#http://api.weatherapi.com/v1/current.json?key=<YOUR_API_KEY>&q=London"
   ]
  },
  {
   "cell_type": "code",
   "execution_count": 82,
   "id": "ff4a8119",
   "metadata": {},
   "outputs": [],
   "source": [
    "import requests\n",
    "import pandas as pd"
   ]
  },
  {
   "cell_type": "code",
   "execution_count": null,
   "id": "3f662ed2",
   "metadata": {},
   "outputs": [],
   "source": [
    "city = \"Louisville\"\n",
    "baseurl = f\"http://api.weatherapi.com/v1/current.json?key={rob_key}&q={city}\"\n",
    "response = requests.get(baseurl)"
   ]
  },
  {
   "cell_type": "code",
   "execution_count": 98,
   "id": "e31a7e83",
   "metadata": {},
   "outputs": [
    {
     "data": {
      "text/plain": [
       "200"
      ]
     },
     "execution_count": 98,
     "metadata": {},
     "output_type": "execute_result"
    }
   ],
   "source": [
    "response.status_code"
   ]
  },
  {
   "cell_type": "code",
   "execution_count": 88,
   "id": "1fbe9eaa",
   "metadata": {},
   "outputs": [
    {
     "data": {
      "text/plain": [
       "{'location': {'name': 'London',\n",
       "  'region': 'City of London, Greater London',\n",
       "  'country': 'United Kingdom',\n",
       "  'lat': 51.5171,\n",
       "  'lon': -0.1062,\n",
       "  'tz_id': 'Europe/London',\n",
       "  'localtime_epoch': 1757433491,\n",
       "  'localtime': '2025-09-09 16:58'},\n",
       " 'current': {'last_updated_epoch': 1757432700,\n",
       "  'last_updated': '2025-09-09 16:45',\n",
       "  'temp_c': 20.2,\n",
       "  'temp_f': 68.4,\n",
       "  'is_day': 1,\n",
       "  'condition': {'text': 'Partly cloudy',\n",
       "   'icon': '//cdn.weatherapi.com/weather/64x64/day/116.png',\n",
       "   'code': 1003},\n",
       "  'wind_mph': 10.3,\n",
       "  'wind_kph': 16.6,\n",
       "  'wind_degree': 190,\n",
       "  'wind_dir': 'S',\n",
       "  'pressure_mb': 1014.0,\n",
       "  'pressure_in': 29.94,\n",
       "  'precip_mm': 0.0,\n",
       "  'precip_in': 0.0,\n",
       "  'humidity': 49,\n",
       "  'cloud': 50,\n",
       "  'feelslike_c': 20.2,\n",
       "  'feelslike_f': 68.4,\n",
       "  'windchill_c': 20.2,\n",
       "  'windchill_f': 68.3,\n",
       "  'heatindex_c': 20.2,\n",
       "  'heatindex_f': 68.3,\n",
       "  'dewpoint_c': 6.0,\n",
       "  'dewpoint_f': 42.8,\n",
       "  'vis_km': 10.0,\n",
       "  'vis_miles': 6.0,\n",
       "  'uv': 1.9,\n",
       "  'gust_mph': 11.9,\n",
       "  'gust_kph': 19.2,\n",
       "  'short_rad': 560.18,\n",
       "  'diff_rad': 181.83,\n",
       "  'dni': 627.81,\n",
       "  'gti': 101.19}}"
      ]
     },
     "execution_count": 88,
     "metadata": {},
     "output_type": "execute_result"
    }
   ],
   "source": [
    "data = response.json()\n",
    "data"
   ]
  },
  {
   "cell_type": "code",
   "execution_count": 89,
   "id": "ac11fe7d",
   "metadata": {},
   "outputs": [],
   "source": [
    "current = data['current']\n",
    "location = data['location']\n",
    "temp_f = current['temp_f']\n",
    "wind_mph = current['wind_mph']\n",
    "humidity = current['humidity']"
   ]
  },
  {
   "cell_type": "code",
   "execution_count": 92,
   "id": "129bcac4",
   "metadata": {},
   "outputs": [
    {
     "data": {
      "text/plain": [
       "(68.4, 49)"
      ]
     },
     "execution_count": 92,
     "metadata": {},
     "output_type": "execute_result"
    }
   ],
   "source": [
    "temp_f, humidity"
   ]
  },
  {
   "cell_type": "code",
   "execution_count": 101,
   "id": "33ed3f74",
   "metadata": {},
   "outputs": [],
   "source": [
    "def get_weather(city):\n",
    "    url = f\"http://api.weatherapi.com/v1/current.json?key={rob_key}&q={city}\"\n",
    "    response = requests.get(url)\n",
    "    if response.status_code == 200:\n",
    "        data = response.json()\n",
    "        current = data['current']\n",
    "        location = data['location']\n",
    "        temp_f = current['temp_f']\n",
    "        wind_mph = current['wind_mph']\n",
    "        humidity = current['humidity']\n",
    "        \n",
    "        print(f\"Weather for {location['name']}, {location['region']}\")\n",
    "        print(f\"temperature: {current['temp_f']} °F / {current['temp_c']} °C\")\n",
    "        print(f\"Condition: {current['condition']['text']}\")\n",
    "        print(f\"Humidity: {current['humidity']}%\")\n",
    "        print(f\"Wind Speed: {current['wind_mph']} mph\")\n",
    "        \n",
    "    else:\n",
    "        print(f\"Error fetching data for {city}: {response.status_code}\")\n",
    "     "
   ]
  },
  {
   "cell_type": "code",
   "execution_count": 102,
   "id": "b830ff80",
   "metadata": {},
   "outputs": [
    {
     "name": "stdout",
     "output_type": "stream",
     "text": [
      "Weather for Lexington-Fayette, Kentucky\n",
      "temperature: 73.0 °F / 22.8 °C\n",
      "Condition: Partly Cloudy\n",
      "Humidity: 38%\n",
      "Wind Speed: 4.5 mph\n"
     ]
    }
   ],
   "source": [
    "get_weather(\"Lexington\")"
   ]
  },
  {
   "cell_type": "code",
   "execution_count": 103,
   "id": "9f62275b",
   "metadata": {},
   "outputs": [
    {
     "name": "stdout",
     "output_type": "stream",
     "text": [
      "Weather for Louisville, Kentucky\n",
      "temperature: 73.0 °F / 22.8 °C\n",
      "Condition: Sunny\n",
      "Humidity: 46%\n",
      "Wind Speed: 2.7 mph\n"
     ]
    }
   ],
   "source": [
    "get_weather(\"Louisville\")"
   ]
  },
  {
   "cell_type": "code",
   "execution_count": 115,
   "id": "866b8d62",
   "metadata": {},
   "outputs": [],
   "source": [
    "cities = ['Kapaa', 'Louisville', 'New York', 'Asheville']\n",
    "weather_data = []\n",
    "\n",
    "for city in cities:\n",
    "    url = f\"http://api.weatherapi.com/v1/current.json?key={rob_key}&q={city}\"\n",
    "    response = requests.get(url)\n",
    "    if response.status_code == 200:\n",
    "        data = response.json()\n",
    "        weather_data.append({\n",
    "            'City': data['location']['name'],\n",
    "            'Temperature': data['current']['temp_f'],\n",
    "            'Condition': data['current']['condition']['text'],\n",
    "            'Humidity': data['current']['humidity'],\n",
    "            'Wind Speed': data['current']['wind_mph']      })\n",
    "    else:\n",
    "        print('Error fetching data')\n",
    "    "
   ]
  },
  {
   "cell_type": "code",
   "execution_count": 113,
   "id": "9d5bb750",
   "metadata": {},
   "outputs": [
    {
     "data": {
      "text/plain": [
       "[{'City': 'Kapaa',\n",
       "  'Temperature': 73.8,\n",
       "  'Condition': 'Light rain',\n",
       "  'Humidity': 94,\n",
       "  'Wind Speed': 5.6},\n",
       " {'City': 'Louisville',\n",
       "  'Temperature': 73.0,\n",
       "  'Condition': 'Sunny',\n",
       "  'Humidity': 46,\n",
       "  'Wind Speed': 3.1},\n",
       " {'City': 'New York',\n",
       "  'Temperature': 69.1,\n",
       "  'Condition': 'Sunny',\n",
       "  'Humidity': 47,\n",
       "  'Wind Speed': 11.4},\n",
       " {'City': 'Asheville',\n",
       "  'Temperature': 68.2,\n",
       "  'Condition': 'Overcast',\n",
       "  'Humidity': 53,\n",
       "  'Wind Speed': 2.2}]"
      ]
     },
     "execution_count": 113,
     "metadata": {},
     "output_type": "execute_result"
    }
   ],
   "source": [
    "weather_data"
   ]
  },
  {
   "cell_type": "code",
   "execution_count": 117,
   "id": "5f8ba9dd",
   "metadata": {},
   "outputs": [],
   "source": [
    "weather_df = pd.DataFrame(weather_data)"
   ]
  },
  {
   "cell_type": "code",
   "execution_count": 118,
   "id": "5faf9fdd",
   "metadata": {},
   "outputs": [
    {
     "data": {
      "text/html": [
       "<div>\n",
       "<style scoped>\n",
       "    .dataframe tbody tr th:only-of-type {\n",
       "        vertical-align: middle;\n",
       "    }\n",
       "\n",
       "    .dataframe tbody tr th {\n",
       "        vertical-align: top;\n",
       "    }\n",
       "\n",
       "    .dataframe thead th {\n",
       "        text-align: right;\n",
       "    }\n",
       "</style>\n",
       "<table border=\"1\" class=\"dataframe\">\n",
       "  <thead>\n",
       "    <tr style=\"text-align: right;\">\n",
       "      <th></th>\n",
       "      <th>City</th>\n",
       "      <th>Temperature</th>\n",
       "      <th>Condition</th>\n",
       "      <th>Humidity</th>\n",
       "      <th>Wind Speed</th>\n",
       "    </tr>\n",
       "  </thead>\n",
       "  <tbody>\n",
       "    <tr>\n",
       "      <th>0</th>\n",
       "      <td>Kapaa</td>\n",
       "      <td>73.8</td>\n",
       "      <td>Light rain</td>\n",
       "      <td>94</td>\n",
       "      <td>5.6</td>\n",
       "    </tr>\n",
       "    <tr>\n",
       "      <th>1</th>\n",
       "      <td>Louisville</td>\n",
       "      <td>73.0</td>\n",
       "      <td>Sunny</td>\n",
       "      <td>46</td>\n",
       "      <td>3.1</td>\n",
       "    </tr>\n",
       "    <tr>\n",
       "      <th>2</th>\n",
       "      <td>New York</td>\n",
       "      <td>69.1</td>\n",
       "      <td>Sunny</td>\n",
       "      <td>47</td>\n",
       "      <td>11.4</td>\n",
       "    </tr>\n",
       "    <tr>\n",
       "      <th>3</th>\n",
       "      <td>Asheville</td>\n",
       "      <td>68.2</td>\n",
       "      <td>Overcast</td>\n",
       "      <td>53</td>\n",
       "      <td>2.2</td>\n",
       "    </tr>\n",
       "  </tbody>\n",
       "</table>\n",
       "</div>"
      ],
      "text/plain": [
       "         City  Temperature   Condition  Humidity  Wind Speed\n",
       "0       Kapaa         73.8  Light rain        94         5.6\n",
       "1  Louisville         73.0       Sunny        46         3.1\n",
       "2    New York         69.1       Sunny        47        11.4\n",
       "3   Asheville         68.2    Overcast        53         2.2"
      ]
     },
     "execution_count": 118,
     "metadata": {},
     "output_type": "execute_result"
    }
   ],
   "source": [
    "weather_df.head()"
   ]
  },
  {
   "cell_type": "code",
   "execution_count": 120,
   "id": "271c8f07",
   "metadata": {},
   "outputs": [],
   "source": [
    "weather_df.to_csv('sample_weather_data.csv')"
   ]
  },
  {
   "cell_type": "code",
   "execution_count": null,
   "id": "47de6518",
   "metadata": {},
   "outputs": [],
   "source": []
  }
 ],
 "metadata": {
  "kernelspec": {
   "display_name": "Python 3",
   "language": "python",
   "name": "python3"
  },
  "language_info": {
   "codemirror_mode": {
    "name": "ipython",
    "version": 3
   },
   "file_extension": ".py",
   "mimetype": "text/x-python",
   "name": "python",
   "nbconvert_exporter": "python",
   "pygments_lexer": "ipython3",
   "version": "3.13.5"
  }
 },
 "nbformat": 4,
 "nbformat_minor": 5
}
